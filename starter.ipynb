{
 "cells": [
  {
   "cell_type": "markdown",
   "id": "cff9bfa4",
   "metadata": {},
   "source": [
    "# Lab 0 — Getting Started 🚀\n",
    "\n",
    "Welcome!  During the next **eight weeks** you’ll build, compress, and deploy\n",
    "neural networks—from a tiny MLP to a quantized, LoRA-tuned language\n",
    "model.  This notebook will help you\n",
    "\n",
    "1. **clone or open** the course repository,  \n",
    "2. **set up** the Python environment,  \n",
    "3. **run a smoke-test** to verify your GPU / CPU works, and  \n",
    "4. learn how to **ask questions** through GitHub Issues.  \n",
    "\n",
    "---\n",
    "\n",
    "## 2 GitHub Workflow — Work in Your Own Fork\n",
    "\n",
    "Keeping your work in a fork protects the main repository and lets you save\n",
    "progress without merge conflicts.\n",
    "\n",
    "1. Sign in at <https://github.com> (create a free account if needed).  \n",
    "2. Visit **`https://github.com/MIC-Laboratory/NN-LLM-Journey`**.  \n",
    "3. Click **Fork** (top-right).  \n",
    "   *Now you have your own copy of the repo on GitHub.*  \n",
    "\n",
    "### Option A – Local Machine (Recommended if you have a GPU)\n",
    "\n",
    "```bash\n",
    "# Replace the SSH URL with the one from the green “Code” button in *your* fork\n",
    "git clone git@github.com:<your-username>/NN-LLM-Journey.git\n",
    "cd NN-LLM-Journey\n",
    "```\n",
    "\n",
    "From here you can create a Conda environment and run the notebooks locally.\n",
    "\n",
    "### Option B – Google Colab\n",
    "\n",
    "Prefer to work in the cloud? You can run every notebook on a free GPU via\n",
    "Google Colab. Simply connect Colab to your GitHub account following the \n",
    "[official website](https://colab.google/), \n",
    "and open the notebook in Colab.\n",
    "\n",
    "\n",
    "## 3 Environment Setup\n",
    "\n",
    "We will be using miniconda to manage our environment. The first thing you need to do is to install miniconda on to your local machine. The reason we need it is that we often need different version of the same package to run different code and software. However, installing them all on the same machine may cause conflication and unwanted behaviour that are hard to debug. In order to resolve this conflication, we need to create isolated room and easy way to access different environment. In addition we can easily downloading the entire environment without having to go package by package. Conda is a way to do it. Please follow the [official instruction](https://www.anaconda.com/docs/getting-started/miniconda/install) to download miniconda onto you local machine. \n"
   ]
  }
 ],
 "metadata": {
  "kernelspec": {
   "display_name": "efficientai",
   "language": "python",
   "name": "python3"
  },
  "language_info": {
   "name": "python",
   "version": "3.11.13"
  }
 },
 "nbformat": 4,
 "nbformat_minor": 5
}
