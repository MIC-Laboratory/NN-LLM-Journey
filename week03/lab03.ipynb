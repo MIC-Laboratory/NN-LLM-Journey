{
 "cells": [
  {
   "cell_type": "markdown",
   "id": "b26def0b",
   "metadata": {},
   "source": [
    "# Natural Language Processing\n",
    "\n",
    "The entire notebook is built upon [Chapter 3](https://web.stanford.edu/~jurafsky/slp3/3.pdf) of Jurafsky and Martin, Speech and Language Processing, 3rd edition. Please read chapter 3 before proceeding to this lab, the pdf is included in the week03 folder. Instead of giving theoratical guidance, this lab will be mainly focus on implementations and examples. Understanding this lab is an important step torwards underestanding the framework of Large Language Models."
   ]
  }
 ],
 "metadata": {
  "language_info": {
   "name": "python"
  }
 },
 "nbformat": 4,
 "nbformat_minor": 5
}
